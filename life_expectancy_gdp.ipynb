{
 "cells": [
  {
   "cell_type": "code",
   "execution_count": 72,
   "metadata": {},
   "outputs": [
    {
     "name": "stdout",
     "output_type": "stream",
     "text": [
      "<bound method NDFrame.head of      Country  Year  Life expectancy at birth (years)           GDP\n",
      "0      Chile  2000                              77.3  7.786093e+10\n",
      "1      Chile  2001                              77.3  7.097992e+10\n",
      "2      Chile  2002                              77.8  6.973681e+10\n",
      "3      Chile  2003                              77.9  7.564346e+10\n",
      "4      Chile  2004                              78.0  9.921039e+10\n",
      "..       ...   ...                               ...           ...\n",
      "91  Zimbabwe  2011                              54.9  1.209845e+10\n",
      "92  Zimbabwe  2012                              56.6  1.424249e+10\n",
      "93  Zimbabwe  2013                              58.0  1.545177e+10\n",
      "94  Zimbabwe  2014                              59.2  1.589105e+10\n",
      "95  Zimbabwe  2015                              60.7  1.630467e+10\n",
      "\n",
      "[96 rows x 4 columns]>\n"
     ]
    },
    {
     "name": "stderr",
     "output_type": "stream",
     "text": [
      "C:\\Users\\Hubert Domagala\\AppData\\Local\\Temp\\ipykernel_45320\\2379139110.py:11: FutureWarning: The default value of numeric_only in DataFrame.corr is deprecated. In a future version, it will default to False. Select only valid columns or specify the value of numeric_only to silence this warning.\n",
      "  matrix_corr = gdp.corr()\n"
     ]
    }
   ],
   "source": [
    "import pandas as pd\n",
    "import seaborn as sns\n",
    "import numpy as np\n",
    "import matplotlib.pyplot as plt\n",
    "from scipy.stats import linregress\n",
    "import matplotlib.pyplot as plt\n",
    "\n",
    "\n",
    "df = pd.read_csv('all_data.csv')\n",
    "gdp = df[[\"Country\", \"Year\", \"GDP\"]]\n",
    "\n",
    "print(df.head)\n",
    "\n",
    "\n",
    "\n",
    "\n",
    "\n",
    "\n",
    "\n",
    "#df['GDP'] = ['${:,.2f}MM'.format(x) for x in df['GDP']/1000000]\n",
    "\n",
    "\n",
    "\n",
    "\n",
    "\n",
    "\n",
    "\n",
    "\n",
    "#Powrócić do int64 w gdp i zrobić korelacje pomiędzy wzorstem GDP a wzrostem długości życia UDOWODNIE TO\n",
    "#-------Muszę ogarnąć jak zescalować pp to \n",
    "\n",
    "\n",
    "#Zrobic wykres gdp na przestrzeni lat dla każdego państwa\n",
    "#To samo dla przewidywanej długości życia\n",
    "#zsumować gdp i na pie chart pokazać kto ma największy udział procentowy w naszym secie informacji\n",
    "\n",
    "\n"
   ]
  }
 ],
 "metadata": {
  "kernelspec": {
   "display_name": "Python 3 (ipykernel)",
   "language": "python",
   "name": "python3"
  },
  "language_info": {
   "codemirror_mode": {
    "name": "ipython",
    "version": 3
   },
   "file_extension": ".py",
   "mimetype": "text/x-python",
   "name": "python",
   "nbconvert_exporter": "python",
   "pygments_lexer": "ipython3",
   "version": "3.11.4"
  }
 },
 "nbformat": 4,
 "nbformat_minor": 4
}
